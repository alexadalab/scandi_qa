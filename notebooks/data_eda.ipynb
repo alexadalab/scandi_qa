{
 "cells": [
  {
   "cell_type": "code",
   "execution_count": null,
   "id": "a5127b3e-f3c6-4a6a-9e34-d53c78f1125b",
   "metadata": {},
   "outputs": [],
   "source": [
    "%reload_ext autoreload\n",
    "%autoreload 2"
   ]
  },
  {
   "cell_type": "code",
   "execution_count": null,
   "id": "13af4dd6-5fb9-46d6-b5d3-69ffbe77b385",
   "metadata": {},
   "outputs": [],
   "source": [
    "from datasets import load_dataset\n",
    "import numpy as np\n",
    "import itertools as it\n",
    "import re\n",
    "from bs4 import BeautifulSoup\n",
    "from transformers import pipeline\n",
    "from sentence_transformers import SentenceTransformer\n",
    "from pprint import pprint\n",
    "import pandas as pd"
   ]
  },
  {
   "cell_type": "code",
   "execution_count": null,
   "id": "76e712f7-1654-4b8c-b7f0-270d3470dafd",
   "metadata": {},
   "outputs": [],
   "source": [
    "mkqa_da = load_dataset('saattrupdan/mkqa_da', split='train', use_auth_token=True)\n",
    "mkqa_da"
   ]
  },
  {
   "cell_type": "code",
   "execution_count": null,
   "id": "cc0b961b-38d5-4065-9967-2a2301fd3a9e",
   "metadata": {
    "tags": []
   },
   "outputs": [],
   "source": [
    "for idx, record in enumerate(mkqa_da):\n",
    "    pprint(idx)\n",
    "    pprint(record)\n",
    "    x = input()\n",
    "    if x != '':\n",
    "        break"
   ]
  },
  {
   "cell_type": "code",
   "execution_count": null,
   "id": "55048c02-850d-408e-8581-931e2d3e9ba9",
   "metadata": {},
   "outputs": [],
   "source": [
    "mkqa = load_dataset('mkqa', split='train', use_auth_token=True)\n",
    "mkqa"
   ]
  },
  {
   "cell_type": "code",
   "execution_count": null,
   "id": "890c237f-0f7f-4ba1-b5b1-1db11b5017d3",
   "metadata": {},
   "outputs": [],
   "source": [
    "for idx, record in enumerate(mkqa):\n",
    "    pprint(idx)\n",
    "    pprint(record)\n",
    "    x = input()\n",
    "    if x != '':\n",
    "        break"
   ]
  },
  {
   "cell_type": "code",
   "execution_count": null,
   "id": "be87eff7-c005-48b6-8ca2-7705de25a771",
   "metadata": {},
   "outputs": [],
   "source": [
    "x = pd.Series(dict(a=1, b=2))"
   ]
  },
  {
   "cell_type": "code",
   "execution_count": null,
   "id": "9afb8eee-17e8-4946-a2c8-3e27b8c616ab",
   "metadata": {},
   "outputs": [],
   "source": [
    "x.a = 3"
   ]
  },
  {
   "cell_type": "code",
   "execution_count": null,
   "id": "82e3b737-04d0-4143-8cf5-b5b68427d6f6",
   "metadata": {},
   "outputs": [],
   "source": [
    "x"
   ]
  },
  {
   "cell_type": "code",
   "execution_count": null,
   "id": "ccf09737-0ff1-4233-bde1-b25264ebbaf5",
   "metadata": {},
   "outputs": [],
   "source": []
  }
 ],
 "metadata": {
  "kernelspec": {
   "display_name": "Python 3 (ipykernel)",
   "language": "python",
   "name": "python3"
  },
  "language_info": {
   "codemirror_mode": {
    "name": "ipython",
    "version": 3
   },
   "file_extension": ".py",
   "mimetype": "text/x-python",
   "name": "python",
   "nbconvert_exporter": "python",
   "pygments_lexer": "ipython3",
   "version": "3.8.9"
  }
 },
 "nbformat": 4,
 "nbformat_minor": 5
}
