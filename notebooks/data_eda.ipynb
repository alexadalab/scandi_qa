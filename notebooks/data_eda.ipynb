{
 "cells": [
  {
   "cell_type": "code",
   "execution_count": null,
   "id": "a5127b3e-f3c6-4a6a-9e34-d53c78f1125b",
   "metadata": {},
   "outputs": [],
   "source": [
    "%reload_ext autoreload\n",
    "%autoreload 2"
   ]
  },
  {
   "cell_type": "code",
   "execution_count": null,
   "id": "13af4dd6-5fb9-46d6-b5d3-69ffbe77b385",
   "metadata": {},
   "outputs": [],
   "source": [
    "from datasets import load_dataset\n",
    "from datasets.arrow_dataset import Example\n",
    "from functools import partial\n",
    "from bs4 import BeautifulSoup\n",
    "import re"
   ]
  },
  {
   "cell_type": "code",
   "execution_count": null,
   "id": "9ea0a1a7-72bd-49e5-be4a-26a4fe32efb1",
   "metadata": {},
   "outputs": [],
   "source": [
    "nq = load_dataset('natural_questions')\n",
    "nq"
   ]
  },
  {
   "cell_type": "code",
   "execution_count": null,
   "id": "2b0c3930-d35e-4a35-a28d-0880a3408105",
   "metadata": {
    "tags": []
   },
   "outputs": [],
   "source": [
    "def remove_references(doc: str) -> str:\n",
    "    doc = re.sub(r'\\[[0-9]\\]', '', doc)\n",
    "    return doc"
   ]
  },
  {
   "cell_type": "code",
   "execution_count": null,
   "id": "8398b27a-b728-4f52-bd1e-1fcb285b5a75",
   "metadata": {},
   "outputs": [],
   "source": [
    "nq['train'][0].keys()"
   ]
  },
  {
   "cell_type": "code",
   "execution_count": null,
   "id": "1884aab5-6e4e-49f6-a674-a7d46e69f29e",
   "metadata": {},
   "outputs": [],
   "source": [
    "doc_bytes = nq['train'][0]['document']['html'].encode('utf-8')\n",
    "long_answer_dict = nq['train'][0]['annotations']['long_answer'][0]\n",
    "long_answer_html = doc_bytes[long_answer_dict['start_byte']:long_answer_dict['end_byte']]"
   ]
  },
  {
   "cell_type": "code",
   "execution_count": null,
   "id": "f01f6a35-1cfc-4cb3-8196-eb1fd67924a5",
   "metadata": {},
   "outputs": [],
   "source": [
    "long_answer = BeautifulSoup(long_answer_html, 'html.parser').get_text()\n",
    "long_answer = remove_references(long_answer)\n",
    "print(long_answer)"
   ]
  },
  {
   "cell_type": "code",
   "execution_count": null,
   "id": "ef689153-c2f6-4f20-9dad-89c96de8d400",
   "metadata": {},
   "outputs": [],
   "source": [
    "mkqa = load_dataset('mkqa', split='train')\n",
    "mkqa"
   ]
  },
  {
   "cell_type": "code",
   "execution_count": null,
   "id": "c1099d6d-a3c8-415e-bbfa-13baba102a09",
   "metadata": {},
   "outputs": [],
   "source": [
    "def process(example: Example, language: str) -> Example:\n",
    "    example['example_id'] = example['example_id']\n",
    "    example['query'] = example['queries'][language]\n",
    "    example['answer'] = example['answers'][language][0]['text']\n",
    "    example.pop('queries')\n",
    "    example.pop('answers')\n",
    "    return example"
   ]
  },
  {
   "cell_type": "code",
   "execution_count": null,
   "id": "bf39323e-f34c-4ba7-8f95-a708c6f69ec1",
   "metadata": {},
   "outputs": [],
   "source": [
    "mkqa_da = mkqa.map(partial(process, language='da'))\n",
    "mkqa_da"
   ]
  },
  {
   "cell_type": "code",
   "execution_count": null,
   "id": "def36520-2950-4b0b-a7bb-295f258c0d73",
   "metadata": {},
   "outputs": [],
   "source": [
    "mkqa_sv = mkqa.map(partial(process, language='sv'))\n",
    "mkqa_sv"
   ]
  },
  {
   "cell_type": "code",
   "execution_count": null,
   "id": "8604dedb-b3b3-4509-8956-75629816fafe",
   "metadata": {},
   "outputs": [],
   "source": [
    "mkqa_no = mkqa.map(partial(process, language='no'))\n",
    "mkqa_no"
   ]
  },
  {
   "cell_type": "code",
   "execution_count": null,
   "id": "9f803cdd-db74-4443-90a9-0ecbcc1d6bda",
   "metadata": {},
   "outputs": [],
   "source": [
    "mkqa_da[0]"
   ]
  },
  {
   "cell_type": "code",
   "execution_count": null,
   "id": "99e20c7f-1760-4936-a96a-d88ad4812447",
   "metadata": {},
   "outputs": [],
   "source": []
  }
 ],
 "metadata": {
  "kernelspec": {
   "display_name": "Python 3 (ipykernel)",
   "language": "python",
   "name": "python3"
  },
  "language_info": {
   "codemirror_mode": {
    "name": "ipython",
    "version": 3
   },
   "file_extension": ".py",
   "mimetype": "text/x-python",
   "name": "python",
   "nbconvert_exporter": "python",
   "pygments_lexer": "ipython3",
   "version": "3.8.9"
  }
 },
 "nbformat": 4,
 "nbformat_minor": 5
}
