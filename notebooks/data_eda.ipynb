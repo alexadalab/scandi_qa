{
 "cells": [
  {
   "cell_type": "code",
   "execution_count": null,
   "id": "a5127b3e-f3c6-4a6a-9e34-d53c78f1125b",
   "metadata": {},
   "outputs": [],
   "source": [
    "%reload_ext autoreload\n",
    "%autoreload 2"
   ]
  },
  {
   "cell_type": "code",
   "execution_count": null,
   "id": "13af4dd6-5fb9-46d6-b5d3-69ffbe77b385",
   "metadata": {},
   "outputs": [],
   "source": [
    "from datasets import load_dataset\n",
    "import numpy as np\n",
    "import itertools as it\n",
    "import re\n",
    "from bs4 import BeautifulSoup\n",
    "from transformers import pipeline\n",
    "from sentence_transformers import SentenceTransformer"
   ]
  },
  {
   "cell_type": "code",
   "execution_count": null,
   "id": "99e20c7f-1760-4936-a96a-d88ad4812447",
   "metadata": {},
   "outputs": [],
   "source": [
    "ds = load_dataset('natural_questions', split='train')\n",
    "ds"
   ]
  },
  {
   "cell_type": "code",
   "execution_count": null,
   "id": "49449ec9-38f0-4d59-b05c-c48c6f9a04ff",
   "metadata": {},
   "outputs": [],
   "source": [
    "ds[98]['annotations']"
   ]
  },
  {
   "cell_type": "code",
   "execution_count": null,
   "id": "139c44d0-819b-422e-a58d-7a67b2b7e668",
   "metadata": {},
   "outputs": [],
   "source": [
    "ds[4]['annotations']"
   ]
  },
  {
   "cell_type": "code",
   "execution_count": null,
   "id": "47f8e2ab-24eb-4fbc-ae78-e44357872be7",
   "metadata": {},
   "outputs": [],
   "source": [
    "sbert = SentenceTransformer('distiluse-base-multilingual-cased')"
   ]
  },
  {
   "cell_type": "code",
   "execution_count": null,
   "id": "519c6cf0-93b3-4d1b-ae93-eccb4420547f",
   "metadata": {},
   "outputs": [],
   "source": [
    "question = ds[4]['question']['text']\n",
    "question"
   ]
  },
  {
   "cell_type": "code",
   "execution_count": null,
   "id": "a2f76785-e240-4b95-8b14-1df8dbe3a381",
   "metadata": {
    "jupyter": {
     "outputs_hidden": true
    },
    "tags": []
   },
   "outputs": [],
   "source": [
    "soup = BeautifulSoup(ds[4]['document']['html'], 'html.parser')\n",
    "paragraphs = [p.get_text().strip('\\n') for p in soup.find_all('p') if len(p.get_text()) > 10]\n",
    "paragraphs"
   ]
  },
  {
   "cell_type": "code",
   "execution_count": null,
   "id": "9c2e8613-f8d7-4cb1-8c07-dfd17c122300",
   "metadata": {},
   "outputs": [],
   "source": [
    "def similarity(doc1: str, doc2: str) -> float:\n",
    "    emb1 = sbert.encode(doc1)\n",
    "    emb1 = emb1 / np.linalg.norm(emb1)\n",
    "    emb2 = sbert.encode(doc2)\n",
    "    emb2 = emb2 / np.linalg.norm(emb2)\n",
    "    return emb1 @ emb2\n",
    "sims = [similarity(question, p) for p in paragraphs]\n",
    "print(f'Question: {question}')\n",
    "sorted(list(zip(paragraphs, sims)), key=lambda x: x[1], reverse=True)[:3]"
   ]
  },
  {
   "cell_type": "code",
   "execution_count": null,
   "id": "76e712f7-1654-4b8c-b7f0-270d3470dafd",
   "metadata": {},
   "outputs": [],
   "source": [
    "mkqa_da = load_dataset('saattrupdan/mkqa_da', split='train', use_auth_token=True)\n",
    "mkqa_da"
   ]
  },
  {
   "cell_type": "code",
   "execution_count": null,
   "id": "1e35f854-533f-4548-895e-dc847e005f7f",
   "metadata": {},
   "outputs": [],
   "source": [
    "mystring = 'lala asd sjdsd asd asss'\n",
    "indices = [s.start() for s in re.finditer('asd', mystring)]\n",
    "indices"
   ]
  },
  {
   "cell_type": "code",
   "execution_count": null,
   "id": "b9821e0e-a90c-4009-af31-c1f733042e85",
   "metadata": {},
   "outputs": [],
   "source": [
    "mkqa = load_dataset('mkqa', split='train', use_auth_token=True)\n",
    "mkqa"
   ]
  },
  {
   "cell_type": "code",
   "execution_count": null,
   "id": "57e7e893-bd6f-4096-871a-92080d881905",
   "metadata": {},
   "outputs": [],
   "source": [
    "mkqa[0]['answers']"
   ]
  },
  {
   "cell_type": "code",
   "execution_count": null,
   "id": "c539a091-8438-4e03-b965-8792300d26f5",
   "metadata": {},
   "outputs": [],
   "source": [
    "mkqa_da = load_dataset('saattrupdan/mkqa_da', split='train', use_auth_token=True)\n",
    "mkqa_da"
   ]
  },
  {
   "cell_type": "code",
   "execution_count": null,
   "id": "cc0b961b-38d5-4065-9967-2a2301fd3a9e",
   "metadata": {},
   "outputs": [],
   "source": [
    "mkqa_da[3]"
   ]
  },
  {
   "cell_type": "code",
   "execution_count": null,
   "id": "0a24ec4e-cbaf-41f7-9374-3d5b5731d660",
   "metadata": {},
   "outputs": [],
   "source": [
    "mkqa_da[5]['context_en'][1196-30:1196+30]"
   ]
  },
  {
   "cell_type": "code",
   "execution_count": null,
   "id": "8fc0c38c-5b49-4b1e-8038-2af370cdacef",
   "metadata": {},
   "outputs": [],
   "source": []
  }
 ],
 "metadata": {
  "kernelspec": {
   "display_name": "Python 3 (ipykernel)",
   "language": "python",
   "name": "python3"
  },
  "language_info": {
   "codemirror_mode": {
    "name": "ipython",
    "version": 3
   },
   "file_extension": ".py",
   "mimetype": "text/x-python",
   "name": "python",
   "nbconvert_exporter": "python",
   "pygments_lexer": "ipython3",
   "version": "3.8.9"
  }
 },
 "nbformat": 4,
 "nbformat_minor": 5
}
